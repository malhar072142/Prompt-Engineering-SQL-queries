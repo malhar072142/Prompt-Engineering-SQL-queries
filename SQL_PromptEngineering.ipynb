{
  "nbformat": 4,
  "nbformat_minor": 0,
  "metadata": {
    "colab": {
      "provenance": []
    },
    "kernelspec": {
      "name": "python3",
      "display_name": "Python 3"
    },
    "language_info": {
      "name": "python"
    }
  },
  "cells": [
    {
      "cell_type": "markdown",
      "source": [
        "# **SQL Query Generation using Prompt Engineering**"
      ],
      "metadata": {
        "id": "yiAIKqkcpB0R"
      }
    },
    {
      "cell_type": "markdown",
      "source": [
        "### `Author`: Malhar Ghogare"
      ],
      "metadata": {
        "id": "mkpPVvW8pBqB"
      }
    },
    {
      "cell_type": "markdown",
      "source": [
        "### **Importing Libraries:**"
      ],
      "metadata": {
        "id": "sUu5elJspTUY"
      }
    },
    {
      "cell_type": "code",
      "execution_count": null,
      "metadata": {
        "id": "6z50AuvpqMbM"
      },
      "outputs": [],
      "source": [
        "#Importing libraries\n",
        "\n",
        "import openai\n",
        "from IPython.display import display, Markdown"
      ]
    },
    {
      "cell_type": "markdown",
      "source": [
        "### **Loading 'CompanyInfo' dataset file:**"
      ],
      "metadata": {
        "id": "a23F2HxGpWsc"
      }
    },
    {
      "cell_type": "code",
      "source": [
        "#Opening the text file\n",
        "with open('/content/CompanyInfo.txt', 'r') as file:\n",
        "    text_data = file.read()\n",
        "\n",
        "#Displaying the text data\n",
        "print(text_data)"
      ],
      "metadata": {
        "colab": {
          "base_uri": "https://localhost:8080/"
        },
        "id": "77TpeDssqYSD",
        "outputId": "72c8b7a5-1145-4df1-ca04-0aa793ec8aec"
      },
      "execution_count": null,
      "outputs": [
        {
          "output_type": "stream",
          "name": "stdout",
          "text": [
            "Rank    Name    Industry    Revenue\n",
            "(USD millions)  Revenue growth  Employees   Headquarters\n",
            "1   Walmart Retail  611,289 Increase 6.7%   2,100,000   Bentonville, Arkansas\n",
            "2   Amazon  Retail and cloud computing  513,983 Increase 9.4%   1,540,000   Seattle, Washington\n",
            "3   ExxonMobil  Petroleum industry  413,680 Increase 44.8%  62,000  Spring, Texas\n",
            "4   Apple   Electronics industry    394,328 Increase 7.8%   164,000 Cupertino, California\n",
            "5   UnitedHealth Group  Healthcare  324,162 Increase 12.7%  400,000 Minnetonka, Minnesota\n",
            "6   CVS Health  Healthcare  322,467 Increase 10.4%  259,500 Woonsocket, Rhode Island\n",
            "7   Berkshire Hathaway  Conglomerate    302,089 Increase 9.4%   383,000 Omaha, Nebraska\n",
            "8   Alphabet    Technology and cloud computing  282,836 Increase 9.8%   156,000 Mountain View, California\n",
            "9   McKesson Corporation    Health  276,711 Increase 4.8%   48,500  Irving, Texas\n",
            "10  Chevron Corporation Petroleum industry  246,252 Increase 51.6%  43,846  San Ramon, California\n",
            "11  AmerisourceBergen   Pharmaceutical industry 238,587 Increase 11.5%  41,500  Chesterbrook, Pennsylvania\n",
            "12  Costco  Retail  226,954 Increase 15.8%  304,000 Issaquah, Washington\n",
            "13  Microsoft   Technology and cloud computing  198,270 Increase 18.0%  221,000 Redmond, Washington\n",
            "14  Cardinal Health Healthcare  181,364 Increase 11.6%  46,035  Dublin, Ohio\n",
            "15  Cigna   Health insurance    180,516 Increase 3.7%   70,231  Bloomfield, Connecticut\n",
            "16  Marathon Petroleum  Petroleum industry  180,012 Increase 27.6%  17,800  Findlay, Ohio\n",
            "17  Phillips 66 Petroleum industry  175,702 Increase 53.0%  13,000  Houston, Texas\n",
            "18  Valero Energy   Petroleum industry  171,189 Increase 58.0%  9,743   San Antonio, Texas\n",
            "19  Ford Motor Company  Automotive industry 158,057 Increase 15.9%  173,000 Dearborn, Michigan\n",
            "20  The Home Depot  Retail  157,403 Increase 4.1%   471,600 Atlanta, Georgia\n",
            "21  General Motors  Automotive industry 156,735 Increase 23.4%  167,000 Detroit, Michigan\n",
            "22  Elevance Health Healthcare  156,595 Increase 13.0%  102,200 Indianapolis, Indiana\n",
            "23  JPMorgan Chase  Financial services  154,792 Increase 21.7%  293,723 New York City, New York\n",
            "24  Kroger  Retail  148,258 Increase 7.5%   430,000 Cincinnati, Ohio\n",
            "25  Centene Healthcare  144,547 Increase 14.7%  74,300  St. Louis, Missouri\n",
            "26  Verizon Communications  Telecommunications  136,835 Increase 2.4%   117,100 New York City, New York\n",
            "27  Walgreens Boots Alliance    Pharmaceutical industry 132,703 Decrease 10.7%  262,500 Deerfield, Illinois\n",
            "28  Fannie Mae  Financials  121,596 Increase 19.7%  8,000   Washington, D.C.\n",
            "29  Comcast Telecommunications  121,427 Increase 4.3%   186,000 Philadelphia, Pennsylvania\n",
            "30  AT&T    Conglomerate and telecomunications  120,741 Decrease 28.5%  160,700 Dallas, Texas\n",
            "31  Meta Platforms  Technology  116,609 Decrease 1.1%   86,482  Menlo Park, California\n",
            "32  Bank of America Financials  115,053 Increase 22.6%  216,823 Charlotte, North Carolina\n",
            "33  Target Corporation  Retail  109,120 Increase 2.9%   440,000 Minneapolis, Minnesota\n",
            "34  Dell Technologies   Technology  102,301 Decrease 4.4%   133,000 Round Rock, Texas\n",
            "35  Archer Daniels Midland  Food industry   101,556 Increase 19.1%  41,181  Chicago, Illinois\n",
            "36  Citigroup   Financials  101,078 Increase 26.6%  238,104 New York City, New York\n",
            "37  United Parcel Service   Transportation  100,338 Increase 3.1%   404,700 Atlanta, Georgia\n",
            "38  Pfizer  Pharmaceutical industry 100,330 Increase 23.4%  83,000  New York City, New York\n",
            "39  Lowe's  Retail  97,059  Increase 0.8%   244,500 Mooresville, North Carolina\n",
            "40  Johnson & Johnson   Pharmaceutical industry 94,943  Increase 1.2%   152,700 New Brunswick, New Jersey\n",
            "41  FedEx   Transportation  93,512  Increase 11.4%  518,249 Memphis, Tennessee\n",
            "42  Humana  Health insurance    92,870  Increase 11.8%  67,100  Louisville, Kentucky\n",
            "43  Energy Transfer Partners    Petroleum industry  89,876  Increase 33.3%  12,565  Dallas, Texas\n",
            "44  State Farm  Financials  89,328  Increase 8.6%   60,519  Bloomington, Illinois\n",
            "45  Freddie Mac Financials  86,717  Increase 31.6%  7,819   McLean, Virginia\n",
            "46  PepsiCo Beverage    86,859  Increase 8.7%   315,000 Purchase, New York\n",
            "47  Wells Fargo Financials  82,859  Increase 0.5%   238,000 San Francisco, California\n",
            "48  The Walt Disney Company Media   82,722  Increase 22.7%  195,800 Burbank, California\n",
            "49  ConocoPhillips  Petroleum industry  82,156  Increase 69.9%  9,500   Houston, Texas\n",
            "50  Tesla   Automotive and energy   81,462  Increase 51.4%  127,855 Austin, Texas\n"
          ]
        }
      ]
    },
    {
      "cell_type": "code",
      "source": [
        "!pip install openai==0.28"
      ],
      "metadata": {
        "id": "-UuqPfOOvKQ7"
      },
      "execution_count": null,
      "outputs": []
    },
    {
      "cell_type": "markdown",
      "source": [
        "### **Setting up Openai Key and ChatCompletion Pipeline:**"
      ],
      "metadata": {
        "id": "ViyOU9E3pd3Y"
      }
    },
    {
      "cell_type": "code",
      "source": [
        "|#Setting my OpenAI API key (Replace 'your_api_key_' with your actual key)\n",
        "openai.api_key = \"your_api_key\"\n",
        "# Function to send a prompt to OpenAI and retrieve a response\n",
        "def get_openai_response(prompt):\n",
        "    response = openai.ChatCompletion.create(\n",
        "        model=\"gpt-4\",  # Using GPT-4 model\n",
        "        messages=[{\"role\": \"system\", \"content\": \"You are an expert in SQL and data analysis.\"},\n",
        "                  {\"role\": \"user\", \"content\": prompt}],\n",
        "        temperature=0.7  # Adjust for variability in responses\n",
        "    )\n",
        "    return response['choices'][0]['message']['content']\n"
      ],
      "metadata": {
        "id": "evsRUe-yqYCh"
      },
      "execution_count": null,
      "outputs": []
    },
    {
      "cell_type": "markdown",
      "source": [
        "#### **1. Purpose**\n",
        "- The code interacts with OpenAI’s GPT-4 model to generate SQL-related responses.\n",
        "- It defines a function to send a prompt and retrieve the model’s response.\n",
        "\n",
        "#### **2. API Interaction**\n",
        "- Uses `openai.ChatCompletion.create()` to query the model.\n",
        "- Extracts the first response from `response['choices'][0]['message']['content']`.\n",
        "\n",
        "#### **3. Role-Based Prompting**\n",
        "- A `\"system\"` message instructs GPT-4 to act as an **SQL and data analysis expert**.\n",
        "- A `\"user\"` message contains the actual task prompt.\n",
        "\n",
        "#### **4. Temperature Setting**\n",
        "- `temperature=0.7` allows variation in responses.\n",
        "- This is useful for creative queries but may cause inconsistencies.\n",
        "\n",
        "\n",
        "\n",
        "\n",
        "\n",
        "\n",
        "\n",
        "\n"
      ],
      "metadata": {
        "id": "sZy3TB1i1_Wk"
      }
    },
    {
      "cell_type": "markdown",
      "source": [
        "### **Task 1: Extracting Attributes and converting to JSON**\n"
      ],
      "metadata": {
        "id": "-OQF3EcNqwfv"
      }
    },
    {
      "cell_type": "code",
      "source": [
        "#Prompt for extracting attributes and converting to JSON\n",
        "prompt = f\"\"\"\n",
        "Extract the following attributes from the given text data and return the results in JSON format:\n",
        "\n",
        "Attributes:\n",
        "- Rank\n",
        "- Name\n",
        "- Industry\n",
        "- Revenue\n",
        "- Revenue growth\n",
        "- Employees\n",
        "- Headquarters\n",
        "\n",
        "### Given Text Data:\n",
        "{text_data}\n",
        "\n",
        "### Expected Output Format:\n",
        "[\n",
        "  {{\n",
        "    \"Rank\": \"2\",\n",
        "    \"Name\": \"Amazon\",\n",
        "    \"Industry\": \"Retail and cloud computing\",\n",
        "    \"Revenue\": \"513,983\",\n",
        "    \"Revenue Growth\": \"Increase 9.4%\",\n",
        "    \"Employees\": \"1,540,000\",\n",
        "    \"Headquarters\": \"Seattle, Washington\"\n",
        "  }},\n",
        "  {{\n",
        "    \"Rank\": \"3\",\n",
        "    \"Name\": \"ExxonMobil\",\n",
        "    \"Industry\": \"Petroleum industry\",\n",
        "    \"Revenue\": \"413,680\",\n",
        "    \"Revenue Growth\": \"Increase 44.8%\",\n",
        "    \"Employees\": \"62,000\",\n",
        "    \"Headquarters\": \"Spring, Texas\"\n",
        "  }},\n",
        "  {{\n",
        "    \"Rank\": \"4\",\n",
        "    \"Name\": \"Apple\",\n",
        "    \"Industry\": \"Electronics industry\",\n",
        "    \"Revenue\": \"394,328\",\n",
        "    \"Revenue Growth\": \"Increase 7.8%\",\n",
        "    \"Employees\": \"164,000\",\n",
        "    \"Headquarters\": \"Cupertino, California\"\n",
        "  }},\n",
        "  {{\n",
        "    \"Rank\": \"5\",\n",
        "    \"Name\": \"UnitedHealth Group\",\n",
        "    \"Industry\": \"Healthcare\",\n",
        "    \"Revenue\": \"324,162\",\n",
        "    \"Revenue Growth\": \"Increase 12.7%\",\n",
        "    \"Employees\": \"400,000\",\n",
        "    \"Headquarters\": \"Minnetonka, Minnesota\"\n",
        "  }}\n",
        "]\n",
        "\"\"\"\n"
      ],
      "metadata": {
        "id": "L359rpB0qYoi"
      },
      "execution_count": null,
      "outputs": []
    },
    {
      "cell_type": "code",
      "source": [
        "import openai\n",
        "\n",
        "#OpenAI API call (Make sure to replace 'YOUR_API_KEY' with a valid key)\n",
        "response = openai.ChatCompletion.create(\n",
        "    model=\"gpt-4\",  # Use GPT-4 or GPT-3.5-turbo\n",
        "    messages=[{\"role\": \"user\", \"content\": prompt}],\n",
        "    temperature=0  # Lower temperature for structured output\n",
        ")\n",
        "\n",
        "#Extracting response text\n",
        "extracted_data = response['choices'][0]['message']['content']\n",
        "\n",
        "#Displaying JSON output\n",
        "from IPython.display import display, Markdown\n",
        "display(Markdown(f\"### Extracted Attributes & JSON Output:\\n```json\\n{extracted_data}\\n```\"))\n"
      ],
      "metadata": {
        "colab": {
          "base_uri": "https://localhost:8080/",
          "height": 1000
        },
        "id": "_HM-MW_9qYtt",
        "outputId": "b61fcf56-09e6-450b-b002-4f0e046aaa38"
      },
      "execution_count": null,
      "outputs": [
        {
          "output_type": "display_data",
          "data": {
            "text/plain": [
              "<IPython.core.display.Markdown object>"
            ],
            "text/markdown": "### Extracted Attributes & JSON Output:\n```json\n[\n  {\n    \"Rank\": \"1\",\n    \"Name\": \"Walmart\",\n    \"Industry\": \"Retail\",\n    \"Revenue\": \"611,289\",\n    \"Revenue Growth\": \"Increase 6.7%\",\n    \"Employees\": \"2,100,000\",\n    \"Headquarters\": \"Bentonville, Arkansas\"\n  },\n  {\n    \"Rank\": \"2\",\n    \"Name\": \"Amazon\",\n    \"Industry\": \"Retail and cloud computing\",\n    \"Revenue\": \"513,983\",\n    \"Revenue Growth\": \"Increase 9.4%\",\n    \"Employees\": \"1,540,000\",\n    \"Headquarters\": \"Seattle, Washington\"\n  },\n  {\n    \"Rank\": \"3\",\n    \"Name\": \"ExxonMobil\",\n    \"Industry\": \"Petroleum industry\",\n    \"Revenue\": \"413,680\",\n    \"Revenue Growth\": \"Increase 44.8%\",\n    \"Employees\": \"62,000\",\n    \"Headquarters\": \"Spring, Texas\"\n  },\n  {\n    \"Rank\": \"4\",\n    \"Name\": \"Apple\",\n    \"Industry\": \"Electronics industry\",\n    \"Revenue\": \"394,328\",\n    \"Revenue Growth\": \"Increase 7.8%\",\n    \"Employees\": \"164,000\",\n    \"Headquarters\": \"Cupertino, California\"\n  },\n  {\n    \"Rank\": \"5\",\n    \"Name\": \"UnitedHealth Group\",\n    \"Industry\": \"Healthcare\",\n    \"Revenue\": \"324,162\",\n    \"Revenue Growth\": \"Increase 12.7%\",\n    \"Employees\": \"400,000\",\n    \"Headquarters\": \"Minnetonka, Minnesota\"\n  },\n  {\n    \"Rank\": \"6\",\n    \"Name\": \"CVS Health\",\n    \"Industry\": \"Healthcare\",\n    \"Revenue\": \"322,467\",\n    \"Revenue Growth\": \"Increase 10.4%\",\n    \"Employees\": \"259,500\",\n    \"Headquarters\": \"Woonsocket, Rhode Island\"\n  },\n  {\n    \"Rank\": \"7\",\n    \"Name\": \"Berkshire Hathaway\",\n    \"Industry\": \"Conglomerate\",\n    \"Revenue\": \"302,089\",\n    \"Revenue Growth\": \"Increase 9.4%\",\n    \"Employees\": \"383,000\",\n    \"Headquarters\": \"Omaha, Nebraska\"\n  },\n  {\n    \"Rank\": \"8\",\n    \"Name\": \"Alphabet\",\n    \"Industry\": \"Technology and cloud computing\",\n    \"Revenue\": \"282,836\",\n    \"Revenue Growth\": \"Increase 9.8%\",\n    \"Employees\": \"156,000\",\n    \"Headquarters\": \"Mountain View, California\"\n  },\n  {\n    \"Rank\": \"9\",\n    \"Name\": \"McKesson Corporation\",\n    \"Industry\": \"Health\",\n    \"Revenue\": \"276,711\",\n    \"Revenue Growth\": \"Increase 4.8%\",\n    \"Employees\": \"48,500\",\n    \"Headquarters\": \"Irving, Texas\"\n  },\n  {\n    \"Rank\": \"10\",\n    \"Name\": \"Chevron Corporation\",\n    \"Industry\": \"Petroleum industry\",\n    \"Revenue\": \"246,252\",\n    \"Revenue Growth\": \"Increase 51.6%\",\n    \"Employees\": \"43,846\",\n    \"Headquarters\": \"San Ramon, California\"\n  }\n]\n```"
          },
          "metadata": {}
        }
      ]
    },
    {
      "cell_type": "markdown",
      "source": [
        "#### **1. Accuracy**\n",
        "- The extracted attributes align correctly with the given dataset.\n",
        "- The output contains correct values for **Rank, Name, Industry, Revenue, Revenue Growth, Employees, and Headquarters**.\n",
        "\n",
        "#### **2. Completeness**\n",
        "- The extracted JSON includes **more records than the prompt example**, demonstrating that the model correctly processes the dataset beyond the explicitly stated examples.\n",
        "- This suggests the model **understood the broader pattern** rather than only extracting predefined examples.\n",
        "\n",
        "#### **3. Consistency**\n",
        "- The format of the output JSON is **consistent with the expected structure**.\n",
        "- Field names match the attribute names specified in the prompt, ensuring easy database insertion.\n",
        "- No missing fields or inconsistencies across records.\n",
        "\n",
        "#### **4. Clarity & Readability**\n",
        "- The JSON structure is **clean and well-formatted**, making it easy to parse.\n",
        "- Numeric values (such as Revenue and Employees) are represented as **strings**, which could require type conversion in SQL operations.\n",
        "\n",
        "#### **5. Appropriateness**\n",
        "- The output effectively **matches the intended use case** of structured data extraction.\n",
        "- The model successfully follows the request to **extract key business attributes** in JSON format.\n",
        "\n",
        "#### **6. Improvement Areas**\n",
        "- The prompt could clarify whether all records should be extracted or just a subset.\n",
        "- The Revenue and Employee numbers could be **converted into numeric types** rather than strings for better usability in SQL.\n",
        "\n",
        "### **Overall Assessment**\n",
        "✅ **High accuracy** in attribute extraction  \n",
        "✅ **Consistent formatting** following JSON structure  \n",
        "✅ **Clear and structured output** suitable for database use  \n",
        "🔹 **Minor prompt inconsistencies** that could be refined  \n",
        "🔹 **Potential improvements** in numerical data representation  "
      ],
      "metadata": {
        "id": "iXbC2H9A0M_F"
      }
    },
    {
      "cell_type": "markdown",
      "source": [
        "### **Task 2: SQL Table Creation**\n"
      ],
      "metadata": {
        "id": "a0e1JyBmq0o6"
      }
    },
    {
      "cell_type": "code",
      "source": [
        "#Defining the prompt to generate an SQL table creation query\n",
        "prompt_create_table = \"\"\"\n",
        "Generate SQL code that creates a table called 'CompanyInfo' to store the attributes extracted from the 'CompanyInfo.txt' file.\n",
        "Ensure that each column has an appropriate data type.\n",
        "\n",
        "### Required Table Structure:\n",
        "- Rank: INT (PRIMARY KEY, as it uniquely identifies each company)\n",
        "- Name: VARCHAR(255) (Company names can be up to 255 characters)\n",
        "- Industry: VARCHAR(255) (Industry names may be long, so use VARCHAR(255))\n",
        "- Revenue: DECIMAL(15,2) (Large monetary values with two decimal places)\n",
        "- Revenue_growth: DECIMAL(5,2) (Percentage values, so two decimal places)\n",
        "- Employees: INT (The number of employees is an integer)\n",
        "- Headquarters: VARCHAR(255) (Headquarters location as a string)\n",
        "\n",
        "### Constraints:\n",
        "- The 'Rank' column should be the PRIMARY KEY to uniquely identify each company.\n",
        "- The 'Name' column should be **NOT NULL** as each company must have a name.\n",
        "- The 'Revenue' column should not allow negative values.\n",
        "\n",
        "Ensure the output is formatted SQL code that can be executed directly in an SQL database.\n",
        "\"\"\"\n",
        "\n",
        "#OpenAI API call\n",
        "response = openai.ChatCompletion.create(\n",
        "    model=\"gpt-4\",\n",
        "    messages=[{\"role\": \"user\", \"content\": prompt_create_table}],\n",
        "    temperature=0  # Ensures structured and deterministic output\n",
        ")\n",
        "\n",
        "#Extracting the generated SQL query\n",
        "sql_query = response['choices'][0]['message']['content']\n",
        "\n",
        "#Displaying the SQL output in Markdown format for better readability\n",
        "display(Markdown(f\"### SQL Table Creation :\\n```sql\\n{sql_query}\\n```\"))\n"
      ],
      "metadata": {
        "colab": {
          "base_uri": "https://localhost:8080/",
          "height": 261
        },
        "id": "9jNxJnqiqYx7",
        "outputId": "e78e5354-8cf2-4567-f3dd-15757d96b5bd"
      },
      "execution_count": null,
      "outputs": [
        {
          "output_type": "display_data",
          "data": {
            "text/plain": [
              "<IPython.core.display.Markdown object>"
            ],
            "text/markdown": "### SQL Table Creation :\n```sql\n```sql\nCREATE TABLE CompanyInfo (\n    Rank INT PRIMARY KEY,\n    Name VARCHAR(255) NOT NULL,\n    Industry VARCHAR(255),\n    Revenue DECIMAL(15,2) CHECK (Revenue >= 0),\n    Revenue_growth DECIMAL(5,2),\n    Employees INT,\n    Headquarters VARCHAR(255)\n);\n```\n```"
          },
          "metadata": {}
        }
      ]
    },
    {
      "cell_type": "markdown",
      "source": [
        "#### **1. Accuracy**\n",
        "- The generated SQL matches the expected table structure.\n",
        "- All **required columns** are correctly defined with appropriate data types.\n",
        "- The **PRIMARY KEY constraint** on `Rank` is correctly implemented.\n",
        "\n",
        "#### **2. Completeness**\n",
        "- The output includes **all specified constraints**:\n",
        "  - `Rank` as `PRIMARY KEY`\n",
        "  - `Name` as `NOT NULL`\n",
        "  - `Revenue` with a `CHECK` constraint (`Revenue >= 0`)\n",
        "\n",
        "#### **3. Consistency**\n",
        "- Column names match the attributes extracted earlier, ensuring seamless integration.\n",
        "- Data types align with industry best practices for storing company information.\n",
        "\n",
        "#### **4. Clarity & Readability**\n",
        "- The SQL output is well-structured and **formatted for readability**.\n",
        "- Use of `DECIMAL(15,2)` for revenue and `DECIMAL(5,2)` for revenue growth ensures **precision for financial data**.\n",
        "\n",
        "#### **5. Appropriateness**\n",
        "- The choice of `VARCHAR(255)` for textual fields is reasonable.\n",
        "- Integer data types for `Employees` and `Rank` are correctly assigned.\n",
        "- The **CHECK constraint** on `Revenue` prevents incorrect data entries.\n",
        "\n",
        "#### **6. Improvement Areas**\n",
        "- `Revenue_growth` represents percentages but lacks a **constraint to enforce valid ranges** (e.g., `CHECK (Revenue_growth >= 0 AND Revenue_growth <= 100)`).\n",
        "- `Employees` can be `NULL`, which might not always be ideal. If every company must have an employee count, it should be `NOT NULL`.\n",
        "\n",
        "### **Overall Assessment**\n",
        "✅ **Accurate and well-structured SQL query**  \n",
        "✅ **Meets all functional and integrity constraints**  \n",
        "✅ **Well-formatted and easy to read**  \n",
        "🔹 **Could improve `Revenue_growth` constraints**  \n",
        "🔹 **Consider making `Employees` NOT NULL if required**  \n",
        "\n",
        "\n",
        "\n",
        "\n",
        "\n",
        "\n"
      ],
      "metadata": {
        "id": "E0-Pz7i40OHq"
      }
    },
    {
      "cell_type": "markdown",
      "source": [
        "### **Task 3: SQL INSERT Query using JSON data**\n"
      ],
      "metadata": {
        "id": "26KQrl7qq3z6"
      }
    },
    {
      "cell_type": "code",
      "source": [
        "# Defining the prompt to generate an SQL INSERT query using JSON data\n",
        "prompt_insert_query = \"\"\"\n",
        "Generate an SQL INSERT query that takes company data provided in JSON format and inserts a record into the 'CompanyInfo' table.\n",
        "\n",
        "### JSON Structure:\n",
        "The JSON object contains the following keys:\n",
        "  - Rank\n",
        "  - Name\n",
        "  - Industry\n",
        "  - Revenue\n",
        "  - Revenue Growth\n",
        "  - Employees\n",
        "  - Headquarters\n",
        "\n",
        "The JSON data should be assumed to be stored in a variable (e.g., @company_data), and the query should use SQL functions to extract values and insert them.\n",
        "\n",
        "### Example JSON Object:\n",
        "```json\n",
        "{\n",
        "  \"Rank\": 1,\n",
        "  \"Name\": \"Walmart\",\n",
        "  \"Industry\": \"Retail\",\n",
        "  \"Revenue\": 611289,\n",
        "  \"Revenue Growth\": \"6.7%\",\n",
        "  \"Employees\": 2100000,\n",
        "  \"Headquarters\": \"Bentonville, Arkansas\"\n",
        "}\n",
        "\"\"\"\n",
        "\n",
        "#OpenAI API call\n",
        "response = openai.ChatCompletion.create(\n",
        "    model=\"gpt-4\",\n",
        "    messages=[{\"role\": \"user\", \"content\": prompt_insert_query}],\n",
        "    temperature=0  # Ensures structured and deterministic output\n",
        ")\n",
        "\n",
        "#Extracting the generated SQL query\n",
        "sql_insert_query = response['choices'][0]['message']['content']\n",
        "\n",
        "#Displaying the SQL output in Markdown format for better readability\n",
        "display(Markdown(f\"### Generated SQL INSERT Query:\\n```sql\\n{sql_insert_query}\\n```\"))\n"
      ],
      "metadata": {
        "colab": {
          "base_uri": "https://localhost:8080/",
          "height": 332
        },
        "id": "bQOJ3R6DqY4n",
        "outputId": "69929b6b-4422-426d-a557-2fd4204153d7"
      },
      "execution_count": null,
      "outputs": [
        {
          "output_type": "display_data",
          "data": {
            "text/plain": [
              "<IPython.core.display.Markdown object>"
            ],
            "text/markdown": "### Generated SQL INSERT Query:\n```sql\nHere is an SQL INSERT query that extracts values from the JSON object and inserts them into the 'CompanyInfo' table:\n\n```sql\nINSERT INTO CompanyInfo (Rank, Name, Industry, Revenue, RevenueGrowth, Employees, Headquarters)\nVALUES (\n  CAST(JSON_VALUE(@company_data, '$.Rank') AS INT),\n  JSON_VALUE(@company_data, '$.Name'),\n  JSON_VALUE(@company_data, '$.Industry'),\n  CAST(JSON_VALUE(@company_data, '$.Revenue') AS FLOAT),\n  JSON_VALUE(@company_data, '$.Revenue Growth'),\n  CAST(JSON_VALUE(@company_data, '$.Employees') AS INT),\n  JSON_VALUE(@company_data, '$.Headquarters')\n);\n```\n\nThis query uses the SQL function `JSON_VALUE` to extract values from the JSON object. The `CAST` function is used to convert the extracted JSON values to the appropriate data types for the 'CompanyInfo' table. \n\nPlease note that the SQL syntax for handling JSON can vary between different SQL databases. The above query is written for SQL Server. If you are using a different SQL database, you may need to adjust the syntax accordingly.\n```"
          },
          "metadata": {}
        }
      ]
    },
    {
      "cell_type": "markdown",
      "source": [
        "### **Insights on SQL INSERT Query Prompt and Output**\n",
        "\n",
        "#### **1. Accuracy**\n",
        "- The query is intended to **extract values from a JSON object** and insert them into the `CompanyInfo` table.\n",
        "- The use of `JSON_VALUE` for structured data extraction aligns with SQL Server syntax.\n",
        "- However, the output contains **corrupted formatting and broken syntax**, making it **unusable without manual corrections**.\n",
        "\n",
        "#### **2. Completeness**\n",
        "- The prompt correctly specifies **all required fields** (`Rank, Name, Industry, Revenue, Revenue Growth, Employees, Headquarters`).\n",
        "- **Data type conversions** (`CAST` for numerical fields) are appropriately mentioned, ensuring data integrity.\n",
        "\n",
        "#### **3. Consistency**\n",
        "- The generated SQL query **attempts to follow the expected format**, but the formatting is **severely broken** with misplaced characters and line breaks.\n",
        "- The intended structure is **somewhat preserved**, but incorrect syntax disrupts readability.\n",
        "\n",
        "#### **4. Clarity & Readability**\n",
        "- The output contains **fragmented characters, misplaced spaces, and broken SQL syntax**, making it difficult to understand.\n",
        "- Some parts of the query, such as `CAST(JSON VALUE(@company data, '.Revenue') AS FLOAT)`, appear **disordered or duplicated**.\n",
        "\n",
        "#### **5. Appropriateness**\n",
        "- The use of `JSON_VALUE` and `CAST` functions is relevant for structured JSON-to-SQL insertion.\n",
        "- The **database-specific syntax note** is useful, highlighting potential modifications for other SQL dialects.\n",
        "\n",
        "#### **6. Improvement Areas**\n",
        "- **Fix Formatting Issues:** The response **should not contain corrupted text**—likely caused by an encoding or model output issue.\n",
        "- **Ensure Proper Line Structure:** The SQL statement **should follow correct syntax** to be executable.\n",
        "- **Clarify JSON Handling:** The explanation is valid, but the **example output should be tested for correctness** before use.\n",
        "\n",
        "### **Overall Assessment**\n",
        "✅ **Correct use of JSON extraction functions**  \n",
        "✅ **Logical approach to inserting structured data**  \n",
        "❌ **Severe formatting issues make the query unusable**  \n",
        "❌ **Syntax corruption affects execution**  \n",
        "🔹 **Needs proper structuring for readability and correctness**  \n"
      ],
      "metadata": {
        "id": "koc34XlR0Phh"
      }
    },
    {
      "cell_type": "markdown",
      "source": [
        "### **Task 4: SQL Query for top 5 and bottom 5 companies**"
      ],
      "metadata": {
        "id": "ZA8-hKvOq5fx"
      }
    },
    {
      "cell_type": "code",
      "source": [
        "#Defining the prompt to generate an SQL query for top 5 and bottom 5 companies\n",
        "prompt_top_bottom_query = \"\"\"\n",
        "Generate an SQL query that retrieves both the top 5 and bottom 5 ranked companies from the 'CompanyInfo' table based on the 'Rank' column.\n",
        "Assume that:\n",
        "- A lower Rank value indicates a higher position (top ranked companies).\n",
        "- A higher Rank value indicates a lower position (bottom ranked companies).\n",
        "\n",
        "### Requirements:\n",
        "- The query should return all columns for the selected companies.\n",
        "- The solution **must use either a UNION of two SELECT queries (one for top 5 and one for bottom 5) OR a **window function (if supported by the SQL dialect)**.\n",
        "- Ensure that the query is properly formatted SQL code that can be executed directly in an SQL database.\n",
        "\n",
        "Provide a fully executable SQL query.\n",
        "\"\"\"\n",
        "\n",
        "#OpenAI API call\n",
        "response = openai.ChatCompletion.create(\n",
        "    model=\"gpt-4\",\n",
        "    messages=[{\"role\": \"user\", \"content\": prompt_top_bottom_query}],\n",
        "    temperature=0  # Ensures structured and deterministic output\n",
        ")\n",
        "\n",
        "#Extracting the generated SQL query\n",
        "sql_top_bottom_query = response['choices'][0]['message']['content']\n",
        "\n",
        "#Displaying the SQL output in Markdown format for better readability\n",
        "display(Markdown(f\"### Generated SQL Query for Top 5 & Bottom 5 Companies:\\n```sql\\n{sql_top_bottom_query}\\n```\"))\n"
      ],
      "metadata": {
        "colab": {
          "base_uri": "https://localhost:8080/",
          "height": 307
        },
        "id": "w28ivcaIqY8f",
        "outputId": "7d9f10fc-ca36-4364-9071-5c6edbf78bd5"
      },
      "execution_count": null,
      "outputs": [
        {
          "output_type": "display_data",
          "data": {
            "text/plain": [
              "<IPython.core.display.Markdown object>"
            ],
            "text/markdown": "### Generated SQL Query for Top 5 & Bottom 5 Companies:\n```sql\nHere is an SQL query using UNION of two SELECT queries:\n\n```sql\n(SELECT * FROM CompanyInfo ORDER BY Rank ASC LIMIT 5)\nUNION\n(SELECT * FROM CompanyInfo ORDER BY Rank DESC LIMIT 5)\n```\n\nHere is an SQL query using window function:\n\n```sql\nSELECT * FROM (\n  SELECT *, ROW_NUMBER() OVER (ORDER BY Rank ASC) as TopRank, ROW_NUMBER() OVER (ORDER BY Rank DESC) as BottomRank\n  FROM CompanyInfo\n) AS RankedCompanies\nWHERE TopRank <= 5 OR BottomRank <= 5\n```\n\nPlease note that the window function query might not work in all SQL dialects as not all of them support window functions.\n```"
          },
          "metadata": {}
        }
      ]
    },
    {
      "cell_type": "markdown",
      "source": [
        "### **Insights on SQL Query for Top 5 & Bottom 5 Companies**\n",
        "\n",
        "#### **1. Accuracy**\n",
        "- The output correctly follows the requirement of selecting **both the top 5 and bottom 5 companies** based on `Rank`.\n",
        "- **Two valid approaches** are provided:\n",
        "  - **UNION-based query** using `ORDER BY Rank ASC LIMIT 5` and `ORDER BY Rank DESC LIMIT 5`.\n",
        "  - **Window function-based query** using `ROW_NUMBER() OVER ()`.\n",
        "\n",
        "#### **2. Completeness**\n",
        "- The query includes **all columns** from `CompanyInfo`, as required.\n",
        "- **Both methods** (UNION and window function) offer flexibility based on SQL dialect support.\n",
        "\n",
        "#### **3. Consistency**\n",
        "- The UNION approach is straightforward and **compatible with most SQL dialects**.\n",
        "- The window function approach is more advanced but **not universally supported**, as noted in the output.\n",
        "\n",
        "#### **4. Clarity & Readability**\n",
        "- The UNION-based query is **concise and readable**.\n",
        "- The **window function query lacks a final `SELECT` statement**, making it **less readable** in its current form.\n",
        "- Missing **syntax highlighting** (`;` at the end of queries) affects clarity.\n",
        "\n",
        "#### **5. Appropriateness**\n",
        "- The UNION approach is **efficient and widely compatible**.\n",
        "- The window function approach is **more SQL-optimized** but requires support for analytic functions.\n",
        "\n",
        "#### **6. Improvement Areas**\n",
        "- **Syntax Fixes:** The UNION query should **wrap the subqueries in parentheses properly**.\n",
        "- **Clarify SQL Dialect Requirements:** The output **mentions SQL dialect compatibility**, but a more explicit distinction (e.g., MySQL vs. PostgreSQL) would help.\n",
        "- **Improve Readability of the Window Function Query:** The `SELECT * FROM (...)` structure could be clearer by explicitly selecting columns.\n",
        "\n",
        "### **Overall Assessment**\n",
        "✅ **Two valid approaches provided (UNION and window functions)**  \n",
        "✅ **Meets query requirements for top 5 & bottom 5 selections**  \n",
        "✅ **SQL code is mostly executable with minor fixes**  \n",
        "🔹 **UNION query formatting needs correction**  \n",
        "🔹 **Window function approach could be refined for better clarity**  \n"
      ],
      "metadata": {
        "id": "j0KjYIEe0RjN"
      }
    },
    {
      "cell_type": "markdown",
      "source": [
        "### **Task 5: SQL Query to retrieve companies by state**"
      ],
      "metadata": {
        "id": "NUZIhzT_q7Nl"
      }
    },
    {
      "cell_type": "code",
      "source": [
        "#Defining the prompt to generate an SQL query for grouping companies by state\n",
        "prompt_group_by_state = \"\"\"\n",
        "Construct an SQL query that groups companies by state using the 'Headquarters' column from the 'CompanyInfo' table.\n",
        "Assume that:\n",
        "- The 'Headquarters' column contains both **city and state** (e.g., \"Seattle, Washington\").\n",
        "- The state information can be **extracted as the substring after the comma**.\n",
        "\n",
        "### Requirements:\n",
        "- The query should **count the number of companies** in each state.\n",
        "- The query should **display two columns**: `State` and `CompanyCount` (total companies per state).\n",
        "- Ensure that the output is **properly formatted SQL code** that can be executed directly in an SQL database.\n",
        "\n",
        "Provide a **fully executable SQL query**.\n",
        "\"\"\"\n",
        "\n",
        "#Defining the prompt to generate an SQL query for grouping companies by industry\n",
        "prompt_group_by_industry = \"\"\"\n",
        "Construct an SQL query that groups companies by the 'Industry' column in the 'CompanyInfo' table.\n",
        "\n",
        "### Requirements:\n",
        "- The query should **count how many companies belong to each industry**.\n",
        "- The query should **display two columns**: `Industry` and `CompanyCount` (total companies per industry).\n",
        "- Ensure that the output is **properly formatted SQL code** that can be executed directly in an SQL database.\n",
        "\n",
        "Provide a **fully executable SQL query**.\n",
        "\"\"\"\n",
        "\n",
        "#OpenAI API call for grouping by state\n",
        "response_state = openai.ChatCompletion.create(\n",
        "    model=\"gpt-4\",\n",
        "    messages=[{\"role\": \"user\", \"content\": prompt_group_by_state}],\n",
        "    temperature=0  # Ensures structured and deterministic output\n",
        ")\n",
        "\n",
        "#OpenAI API call for grouping by industry\n",
        "response_industry = openai.ChatCompletion.create(\n",
        "    model=\"gpt-4\",\n",
        "    messages=[{\"role\": \"user\", \"content\": prompt_group_by_industry}],\n",
        "    temperature=0  # Ensures structured and deterministic output\n",
        ")\n",
        "\n",
        "#Extracting the generated SQL queries\n",
        "sql_group_by_state = response_state['choices'][0]['message']['content']\n",
        "sql_group_by_industry = response_industry['choices'][0]['message']['content']\n",
        "\n",
        "#Displaying the SQL outputs in Markdown format for better readability\n",
        "display(Markdown(f\"### Generated SQL Query for Grouping by State:\\n```sql\\n{sql_group_by_state}\\n```\"))\n",
        "display(Markdown(f\"### Generated SQL Query for Grouping by Industry:\\n```sql\\n{sql_group_by_industry}\\n```\"))\n"
      ],
      "metadata": {
        "colab": {
          "base_uri": "https://localhost:8080/",
          "height": 591
        },
        "id": "FRj9G7thqY_O",
        "outputId": "9f9227a5-ecf3-43de-cf22-d46a77181616"
      },
      "execution_count": null,
      "outputs": [
        {
          "output_type": "display_data",
          "data": {
            "text/plain": [
              "<IPython.core.display.Markdown object>"
            ],
            "text/markdown": "### Generated SQL Query for Grouping by State:\n```sql\nHere is a SQL query that meets your requirements:\n\n```sql\nSELECT \n    TRIM(SUBSTR(Headquarters, INSTR(Headquarters, ',') + 1)) AS State,\n    COUNT(*) AS CompanyCount\nFROM \n    CompanyInfo\nGROUP BY \n    State\nORDER BY \n    CompanyCount DESC;\n```\n\nThis query works as follows:\n\n- The `SUBSTR` function is used to extract the state from the 'Headquarters' column. The `INSTR` function is used to find the position of the comma, and then everything after the comma is extracted.\n- The `TRIM` function is used to remove any leading or trailing spaces from the state name.\n- The `COUNT(*)` function is used to count the number of companies in each state.\n- The `GROUP BY` clause is used to group the companies by state.\n- The `ORDER BY` clause is used to sort the states by the number of companies in descending order.\n```"
          },
          "metadata": {}
        },
        {
          "output_type": "display_data",
          "data": {
            "text/plain": [
              "<IPython.core.display.Markdown object>"
            ],
            "text/markdown": "### Generated SQL Query for Grouping by Industry:\n```sql\nHere is the SQL query:\n\n```sql\nSELECT Industry, COUNT(*) AS CompanyCount\nFROM CompanyInfo\nGROUP BY Industry;\n```\n\nThis query will return a list of industries and the number of companies in each industry. The `GROUP BY` clause groups the companies by industry, and the `COUNT(*)` function counts the number of companies in each group.\n```"
          },
          "metadata": {}
        }
      ]
    },
    {
      "cell_type": "markdown",
      "source": [
        "### **Insights on SQL Queries for Grouping by State & Industry**\n",
        "\n",
        "#### **1. Accuracy**\n",
        "- The **grouping by state query** correctly extracts the state name using `SUBSTR()` and `INSTR()` functions.\n",
        "- The **grouping by industry query** is straightforward and correctly **counts companies per industry**.\n",
        "\n",
        "#### **2. Completeness**\n",
        "- **All required fields are included**:\n",
        "  - `State` and `CompanyCount` for state-based grouping.\n",
        "  - `Industry` and `CompanyCount` for industry-based grouping.\n",
        "- The **ORDER BY clause in the state query** ensures results are sorted by company count.\n",
        "\n",
        "#### **3. Consistency**\n",
        "- Both queries **maintain proper SQL formatting**.\n",
        "- The column names (`State`, `Industry`, `CompanyCount`) are **clear and consistent** with SQL conventions.\n",
        "\n",
        "#### **4. Clarity & Readability**\n",
        "- The **explanation provided for the state query is detailed and useful**.\n",
        "- **However, the closing SQL code block is incomplete**—the `ORDER BY` statement appears inside the explanation, affecting readability.\n",
        "- The **industry query explanation is minimal** but still clear.\n",
        "\n",
        "#### **5. Appropriateness**\n",
        "- The **state extraction method is suitable for SQL dialects that support `INSTR()` and `SUBSTR()`**.\n",
        "- The **industry query is universally compatible** across SQL databases.\n",
        "\n",
        "#### **6. Improvement Areas**\n",
        "- **Fix formatting issues**: The SQL code blocks **lack proper closures**, leading to readability issues.\n",
        "- **Clarify SQL dialect compatibility**: The `INSTR()` function is not supported in all SQL databases (e.g., PostgreSQL), so alternative methods could be suggested.\n",
        "- **Enhance explanation for the industry query**: While the state query is well-explained, the **industry query could use a short clarification** on how grouping works.\n",
        "\n",
        "### **Overall Assessment**\n",
        "✅ **Queries correctly implement grouping and counting**  \n",
        "✅ **Well-structured SQL statements with meaningful column names**  \n",
        "✅ **Detailed explanation for state query enhances clarity**  \n",
        "🔹 **Formatting issues affect readability**  \n",
        "🔹 **SQL dialect compatibility for state extraction should be noted**  \n",
        "🔹 **Industry query explanation could be expanded for completeness**  \n"
      ],
      "metadata": {
        "id": "9fV-o9cY0TdR"
      }
    }
  ]
}